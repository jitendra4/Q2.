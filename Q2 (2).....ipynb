{
 "cells": [
  {
   "cell_type": "code",
   "execution_count": 23,
   "metadata": {},
   "outputs": [
    {
     "name": "stdout",
     "output_type": "stream",
     "text": [
      "Requirement already satisfied: selenium in d:\\new folder\\lib\\site-packages (3.141.0)\n",
      "Requirement already satisfied: urllib3 in d:\\new folder\\lib\\site-packages (from selenium) (1.25.11)\n"
     ]
    }
   ],
   "source": [
    "#Lets firts install the selenium Library\n",
    "!pip install selenium"
   ]
  },
  {
   "cell_type": "code",
   "execution_count": 24,
   "metadata": {},
   "outputs": [],
   "source": [
    "#Importing all the requried libraries\n",
    "import selenium\n",
    "from selenium import webdriver\n",
    "import time\n",
    "import pandas as pd\n",
    "from selenium.common.exceptions import StaleElementReferenceException, NoSuchElementException, ElementNotVisibleException, ElementNotInteractableException, SessionNotCreatedException, TimeoutException    "
   ]
  },
  {
   "cell_type": "code",
   "execution_count": 25,
   "metadata": {},
   "outputs": [],
   "source": [
    "url=\"https://www.bcci.tv/\""
   ]
  },
  {
   "cell_type": "code",
   "execution_count": 26,
   "metadata": {},
   "outputs": [],
   "source": [
    "#Lets first connect to the web drivers\n",
    "driver=webdriver.Chrome(r\"C:\\Users\\G\\Downloads\\chromedriver_win32\\chromedriver.exe\")"
   ]
  },
  {
   "cell_type": "code",
   "execution_count": 27,
   "metadata": {},
   "outputs": [],
   "source": [
    "driver.get(url)"
   ]
  },
  {
   "cell_type": "code",
   "execution_count": 28,
   "metadata": {},
   "outputs": [],
   "source": [
    "# accessing fixture pages\n",
    "fixture= driver.find_element_by_xpath(\"//a[@class='navigation__link navigation__link--in-drop-down']\")\n",
    "try:\n",
    "    fixture.click()\n",
    "except ElementNotInteractableException:\n",
    "    driver.get(fixture.get_attribute('href'))"
   ]
  },
  {
   "cell_type": "code",
   "execution_count": 29,
   "metadata": {},
   "outputs": [],
   "source": [
    "# Intialisting the empty list\n",
    "match_title=[]\n",
    "series=[]\n",
    "place=[]\n",
    "date=[]\n",
    "time=[]"
   ]
  },
  {
   "cell_type": "code",
   "execution_count": 30,
   "metadata": {},
   "outputs": [
    {
     "data": {
      "text/plain": [
       "'https://www.bcci.tv/'"
      ]
     },
     "execution_count": 30,
     "metadata": {},
     "output_type": "execute_result"
    }
   ],
   "source": [
    "url"
   ]
  },
  {
   "cell_type": "code",
   "execution_count": 32,
   "metadata": {},
   "outputs": [
    {
     "name": "stdout",
     "output_type": "stream",
     "text": [
      "INDIA V ENGLAND 2021\n",
      "INDIA V ENGLAND 2021\n",
      "INDIA V ENGLAND 2021\n",
      "INDIA V ENGLAND 2021\n",
      "INDIA V ENGLAND 2021\n",
      "INDIA V ENGLAND 2021\n",
      "INDIA V ENGLAND 2021\n",
      "INDIA V ENGLAND 2021\n",
      "INDIA V ENGLAND 2021\n",
      "INDIA V ENGLAND 2021\n",
      "INDIA V ENGLAND 2021\n",
      "ENGLAND V INDIA 2021\n",
      "ENGLAND V INDIA 2021\n",
      "ENGLAND V INDIA 2021\n",
      "ENGLAND V INDIA 2021\n",
      "ENGLAND V INDIA 2021\n"
     ]
    }
   ],
   "source": [
    "# scarping of matches\n",
    "matches= driver.find_elements_by_xpath(\"//span[@class='u-unskewed-text fixture__tournament-label u-truncated']\")\n",
    "for i in matches:\n",
    "        print(i.text)\n",
    "        match_title.append(i.text)"
   ]
  },
  {
   "cell_type": "code",
   "execution_count": 33,
   "metadata": {},
   "outputs": [
    {
     "name": "stdout",
     "output_type": "stream",
     "text": [
      "TEST\n",
      "TEST\n",
      "TEST\n",
      "T20I\n",
      "T20I\n",
      "T20I\n",
      "T20I\n",
      "T20I\n",
      "ODI\n",
      "ODI\n",
      "ODI\n",
      "TEST\n",
      "TEST\n",
      "TEST\n",
      "TEST\n",
      "TEST\n"
     ]
    }
   ],
   "source": [
    "# scarping of series\n",
    "serieses= driver.find_elements_by_xpath(\"//span[@class='u-unskewed-text fixture__format']\")\n",
    "for i in serieses:\n",
    "        print(i.text)\n",
    "        series.append(i.text)"
   ]
  },
  {
   "cell_type": "code",
   "execution_count": 34,
   "metadata": {},
   "outputs": [
    {
     "name": "stdout",
     "output_type": "stream",
     "text": [
      "13\n",
      "FEBRUARY\n",
      "09:30 IST\n",
      "24\n",
      "FEBRUARY\n",
      "14:30 IST\n",
      "04\n",
      "MARCH\n",
      "09:30 IST\n",
      "12\n",
      "MARCH\n",
      "19:00 IST\n",
      "14\n",
      "MARCH\n",
      "19:00 IST\n",
      "16\n",
      "MARCH\n",
      "19:00 IST\n",
      "18\n",
      "MARCH\n",
      "19:00 IST\n",
      "20\n",
      "MARCH\n",
      "19:00 IST\n",
      "23\n",
      "MARCH\n",
      "13:30 IST\n",
      "26\n",
      "MARCH\n",
      "13:30 IST\n",
      "28\n",
      "MARCH\n",
      "13:30 IST\n",
      "04\n",
      "AUGUST\n",
      "15:30 IST\n",
      "12\n",
      "AUGUST\n",
      "15:30 IST\n",
      "25\n",
      "AUGUST\n",
      "15:30 IST\n",
      "02\n",
      "SEPTEMBER\n",
      "15:30 IST\n",
      "10\n",
      "SEPTEMBER\n",
      "15:30 IST\n"
     ]
    }
   ],
   "source": [
    "# scarping of date\n",
    "dates= driver.find_elements_by_xpath(\"//div[@class='fixture__full-date']\")\n",
    "for i in dates:\n",
    "        print(i.text)\n",
    "        date.append(i.text)"
   ]
  },
  {
   "cell_type": "code",
   "execution_count": 35,
   "metadata": {},
   "outputs": [
    {
     "name": "stdout",
     "output_type": "stream",
     "text": [
      "2nd Test\n",
      "M. A. Chidambaram Stadium, Chennai\n",
      "3rd Test\n",
      "Sardar Patel Stadium, Ahmedabad\n",
      "4th Test\n",
      "Sardar Patel Stadium, Ahmedabad\n",
      "1st T20I\n",
      "Sardar Patel Stadium, Ahmedabad\n",
      "2nd T20I\n",
      "Sardar Patel Stadium, Ahmedabad\n",
      "3rd T20I\n",
      "Sardar Patel Stadium, Ahmedabad\n",
      "4th T20I\n",
      "Sardar Patel Stadium, Ahmedabad\n",
      "5th T20I\n",
      "Sardar Patel Stadium, Ahmedabad\n",
      "1st ODI\n",
      "Maharashtra Cricket Association Stadium, Pune\n",
      "2nd ODI\n",
      "Maharashtra Cricket Association Stadium, Pune\n",
      "3rd ODI\n",
      "Maharashtra Cricket Association Stadium, Pune\n",
      "1st Test\n",
      "Trent Bridge, Nottingham\n",
      "2nd Test\n",
      "Lord's, London\n",
      "3rd Test\n",
      "Headingley, Leeds\n",
      "4th Test\n",
      "The Oval, London\n",
      "5th Test\n",
      "Old Trafford, Manchester\n"
     ]
    }
   ],
   "source": [
    "# scarping of places\n",
    "places= driver.find_elements_by_xpath(\"//div[@class='fixture__description u-unskewed-text']\")\n",
    "for i in places:\n",
    "        print(i.text)\n",
    "        place.append(i.text)"
   ]
  },
  {
   "cell_type": "code",
   "execution_count": 36,
   "metadata": {},
   "outputs": [
    {
     "name": "stdout",
     "output_type": "stream",
     "text": [
      "Saturday\n",
      "Wednesday\n",
      "Thursday\n",
      "Friday\n",
      "Sunday\n",
      "Tuesday\n",
      "Thursday\n",
      "Saturday\n",
      "Tuesday\n",
      "Friday\n",
      "Sunday\n",
      "Wednesday\n",
      "Thursday\n",
      "Wednesday\n",
      "Thursday\n",
      "Friday\n"
     ]
    }
   ],
   "source": [
    "# scarping of time\n",
    "times= driver.find_elements_by_xpath(\"//span[@class='fixture__day']\")\n",
    "for i in times:\n",
    "        print(i.text)\n",
    "        time.append(i.text)"
   ]
  },
  {
   "cell_type": "code",
   "execution_count": 37,
   "metadata": {},
   "outputs": [
    {
     "name": "stdout",
     "output_type": "stream",
     "text": [
      "                matches serieses  \\\n",
      "0  INDIA V ENGLAND 2021     TEST   \n",
      "1  INDIA V ENGLAND 2021     TEST   \n",
      "2  INDIA V ENGLAND 2021     TEST   \n",
      "3  INDIA V ENGLAND 2021     T20I   \n",
      "4  INDIA V ENGLAND 2021     T20I   \n",
      "5  INDIA V ENGLAND 2021     T20I   \n",
      "6  INDIA V ENGLAND 2021     T20I   \n",
      "7  INDIA V ENGLAND 2021     T20I   \n",
      "\n",
      "                                         places                    dates  \\\n",
      "0  2nd Test\\nM. A. Chidambaram Stadium, Chennai  13\\nFEBRUARY\\n09:30 IST   \n",
      "1     3rd Test\\nSardar Patel Stadium, Ahmedabad  24\\nFEBRUARY\\n14:30 IST   \n",
      "2     4th Test\\nSardar Patel Stadium, Ahmedabad     04\\nMARCH\\n09:30 IST   \n",
      "3     1st T20I\\nSardar Patel Stadium, Ahmedabad     12\\nMARCH\\n19:00 IST   \n",
      "4     2nd T20I\\nSardar Patel Stadium, Ahmedabad     14\\nMARCH\\n19:00 IST   \n",
      "5     3rd T20I\\nSardar Patel Stadium, Ahmedabad     16\\nMARCH\\n19:00 IST   \n",
      "6     4th T20I\\nSardar Patel Stadium, Ahmedabad     18\\nMARCH\\n19:00 IST   \n",
      "7     5th T20I\\nSardar Patel Stadium, Ahmedabad     20\\nMARCH\\n19:00 IST   \n",
      "\n",
      "       times  \n",
      "0   Saturday  \n",
      "1  Wednesday  \n",
      "2   Thursday  \n",
      "3     Friday  \n",
      "4     Sunday  \n",
      "5    Tuesday  \n",
      "6   Thursday  \n",
      "7   Saturday  \n"
     ]
    }
   ],
   "source": [
    "df= pd.DataFrame({\"matches\":match_title[0:8],\n",
    "                 \"serieses\":series[0:8],\n",
    "                 \"places\":place[0:8],\n",
    "                 \"dates\":date[0:8],\n",
    "                 \"times\":time[0:8]})\n",
    "print(df)"
   ]
  },
  {
   "cell_type": "code",
   "execution_count": null,
   "metadata": {},
   "outputs": [],
   "source": []
  }
 ],
 "metadata": {
  "kernelspec": {
   "display_name": "Python 3",
   "language": "python",
   "name": "python3"
  },
  "language_info": {
   "codemirror_mode": {
    "name": "ipython",
    "version": 3
   },
   "file_extension": ".py",
   "mimetype": "text/x-python",
   "name": "python",
   "nbconvert_exporter": "python",
   "pygments_lexer": "ipython3",
   "version": "3.8.5"
  }
 },
 "nbformat": 4,
 "nbformat_minor": 4
}
